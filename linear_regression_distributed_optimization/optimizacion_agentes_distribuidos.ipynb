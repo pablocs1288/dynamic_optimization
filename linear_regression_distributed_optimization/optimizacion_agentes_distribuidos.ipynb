{
 "cells": [
  {
   "cell_type": "code",
   "execution_count": 1,
   "id": "5bafaa06-7d22-4577-b0e9-89787bdb41de",
   "metadata": {},
   "outputs": [],
   "source": [
    "import numpy as np"
   ]
  },
  {
   "cell_type": "markdown",
   "id": "1279dc10-21ac-4757-80eb-87abb5987cc2",
   "metadata": {},
   "source": [
    "### 1. Paso variable subgradiente"
   ]
  },
  {
   "cell_type": "code",
   "execution_count": 2,
   "id": "612f3466-bc6e-40e5-bdaf-2267f4e7eba8",
   "metadata": {},
   "outputs": [],
   "source": [
    "# funcion objetivo local para una regresión lineal\n",
    "\n"
   ]
  },
  {
   "cell_type": "code",
   "execution_count": 3,
   "id": "69d775f1-dc41-4b33-ae95-389f2fc4a49b",
   "metadata": {},
   "outputs": [],
   "source": [
    "##### Inicialización de datos #####\n",
    "# dados W's\n",
    "W = np.array([\n",
    "            [[0,0.4,0.3],\n",
    "              [0.4, 0 , 0.1],\n",
    "              [0.3, 0.1, 0]],\n",
    "         [[0,0.5,0.4],\n",
    "          [0.5, 0 , 0.2],\n",
    "          [0.4, 0.2, 0]],\n",
    "         [[0,0.6,0.1],\n",
    "          [0.6, 0 , 0.15],\n",
    "          [0.1, 0.15, 0]]])\n",
    "\n",
    "#                    k=0          k=1  k=2\n",
    "#s_example = np.array([[[0.03,0.027,0.01],  [], [], []])\n",
    "#s_example =  np.array([[0.03,0.027,0.01]])\n",
    "\n",
    "#                    k=0                                   k=1                                    k=2\n",
    "#               n_j=1, n_j=2, n_j=3\n",
    "#s_k = np.array([[[0.03,0.027,0.01],  [sub_gradite(x_j_1),sub_gradite(x_j_1),sub_gradite(x_j_1)], [], []])\n",
    "s_k= [[0.6, 0.3, 0.5]] # acumuladores, que son listas!\n",
    "a = [[0.01,0.03,0.12]] # -> [[0.01,0.03,0.12], [0.02,0.01,0.12432423]]  # acumuladores, que son listas!\n",
    "pen = 0.75\n",
    "\n",
    "#                    k=0          k=1  k=2\n",
    "#x = np.array([[0.3,0.34,0.45],  [], [], []])\n",
    "#            n_i=1, n_i=2, n_i=3\n",
    "x = [[0.3,0.34,0.45]] # -> [[0.3,0.34,0.45], [0.2,0.1,0.65454],...] # acumuladores, que son listas!\n",
    "# en x se acumulan, el x_nodos es lo que va dentro\n",
    "\n",
    "\n",
    "##### implementación algoritmo ######\n",
    "\n",
    "\n",
    "#y = 0.4 + 0.8*x + 0.57*x**2 + 0.54*|x| # sub_gradiente calcula dy/dx\n",
    "def sub_gradiente(x):\n",
    "    return 0.8 + 2*0.57*x\n",
    "\n",
    "# implementacion del algoritmo\n",
    "# 3 veces\n",
    "for k in range(1,4): # cantidad de pasos que UD quiere que el algoritmo corra, o a cantidad de pasos que cada agente va a dar, K\n",
    "    # second term\n",
    "    #sum_nodos = np.dot(w_k_minus_1, x[k-1].reshape(3,1)) # producto de matrices\n",
    "    \n",
    "    # second term\n",
    "    # para cada nodo j\n",
    "    x_nodos = [] # sirven poara actualziar\n",
    "    s_k_temp = []# sirven poara actualziar\n",
    "    a_temp = []# sirven poara actualziar\n",
    "    for i in range(3):  # la cantidad de nodos\n",
    "        # calculando x(k) para el nodo i\n",
    "        sum_nodos_j = np.dot(W[k-1][i], x[k-1])\n",
    "        #        SUM                     alpha*s (subgraditne)\n",
    "        x_k_i = np.dot(W[k-1][i], x[k-1]) - np.multiply(a[k-1][i], s_k[k-1][i])\n",
    "        # aqui irian  las formulas, por ejemplo, la de EXTRA\n",
    "        # x_k_i = x[k-1]+np.dot(W[k-1][i], x[k-1])-np.dot(W[k-2][i], x[k-2])-a[k-1]*(sub_gradiente(x[k-1]) - sub_gradiente(x[k-2]))\n",
    "        x_nodos.append(x_k_i)\n",
    "        \n",
    "        # actaulizar para la próxima iteración\n",
    "        #s_k_j_presente = s_k[k-1][j]*0.89 # el cálculo de mi funcion obejtivo para el nodo j en i\n",
    "        s_k_i_presente = (x_k_i)\n",
    "        s_k_temp.append(s_k_i_presente) # esto es un proceso más complejo, pero vamos a supenr quee stos son los sub-grads actualziadops\n",
    "        a_temp.append(a[k-1][i]*pen) # el paso alpha para el nodo j se hace más pequeño a cada iteración\n",
    "    # actualizacion general\n",
    "    s_k.append(s_k_temp)\n",
    "    a.append(a_temp)\n",
    "    x.append(x_nodos)\n",
    "\n",
    "\n",
    "### Material extra ###\n",
    "\n",
    "#y = 0.4 + 0.8*x + 0.57*x**2 + 0.54*|x| # dy/dx\n",
    "def sub_gradiente_ejemplo(x):\n",
    "    if x == 0:\n",
    "        # Considerar los intervales del sub-gradiente que ya calculo en papel y lapiz. ud ya deveria sabe rlos p[untos donde la funcion no es derivable\n",
    "        return 1 # este valor tiene que estar de acuerdo al valor que UD ESCOGIO Dentro del intervalo del sub-gradiente!\n",
    "    else:\n",
    "        grad = 0.8 + 2*0.57*x\n",
    "    return grad\n",
    "\n",
    "# ejemplo de la FORMULA (siguiendo la misma lógica de arriba) de  EXTRA (exact first order algorithm)\n",
    "# x[k-1]+np.dot(W[k-1][i], x[k-1])-np.dot(W[k-2][i], x[k-2])-a[k-1]*(sub_gradiente(x[k-1]) - sub_gradiente(x[k-2]))\n",
    "\n",
    "\n",
    "# gradiente multivariado de ejemplo\n",
    "def grad_ejemplo_multivariado(px_i, py_i,z_hat_,Z):\n",
    "    z_hat_ = get_z(px_i, py_i, a, b1, b2, c11, c22, c33)\n",
    "    dj_dz = 2*(z_hat_-Z)\n",
    "    dj_da = dj_dz*1\n",
    "    dj_db1 = dj_dz*px_i\n",
    "    dj_db2 = dj_dz*py_i\n",
    "    dj_dc11 = dj_dz*(px_i**2)\n",
    "    dj_dc22 = dj_dz*(py_i**2)\n",
    "    dj_dc33 = dj_dz*(px_i*py_i)\n",
    "\n",
    "    return np.array([dj_dz,...,]) # esto no funciona, es solo un ejemplo didáctico\n",
    "    "
   ]
  },
  {
   "cell_type": "code",
   "execution_count": null,
   "id": "86b46ff1-8ee0-4a64-8f44-b03f7785fe16",
   "metadata": {},
   "outputs": [],
   "source": []
  },
  {
   "cell_type": "code",
   "execution_count": 5,
   "id": "5a3a4171-7249-4cb9-a894-8af4819c5394",
   "metadata": {},
   "outputs": [],
   "source": [
    "\n",
    "\n",
    "\n"
   ]
  },
  {
   "cell_type": "code",
   "execution_count": null,
   "id": "4c3b4b1b-bd6e-4ad6-b0ba-6363313aa3eb",
   "metadata": {},
   "outputs": [],
   "source": []
  },
  {
   "cell_type": "code",
   "execution_count": 10,
   "id": "a6136d28-f95c-4305-8507-d32c6bef7823",
   "metadata": {},
   "outputs": [
    {
     "data": {
      "text/plain": [
       "[0.074731189121875, 0.05012363318249999, -0.030483640520000008]"
      ]
     },
     "execution_count": 10,
     "metadata": {},
     "output_type": "execute_result"
    }
   ],
   "source": [
    "k=3\n",
    "x[k]"
   ]
  },
  {
   "cell_type": "code",
   "execution_count": null,
   "id": "5cb9b168-cc56-4ecb-8c60-bafb4ec7d5ed",
   "metadata": {},
   "outputs": [],
   "source": []
  },
  {
   "cell_type": "code",
   "execution_count": null,
   "id": "1e127387-4e4c-4b65-9136-33656e1e6a8d",
   "metadata": {},
   "outputs": [],
   "source": []
  },
  {
   "cell_type": "code",
   "execution_count": null,
   "id": "1547c982-b717-4976-a777-017451089839",
   "metadata": {},
   "outputs": [],
   "source": []
  },
  {
   "cell_type": "code",
   "execution_count": 75,
   "id": "223323e1-0b77-4587-bbd5-083e168fdf5b",
   "metadata": {},
   "outputs": [],
   "source": [
    "# iteracion 1\n",
    "lista_nodos = [\n",
    "    ['Diego', 'Ana La loca', 'Gloria', 'Alby', 'Pablo']] # -> k = 0  \n",
    "\n",
    "# iteracion 2\n",
    "lista_familiasdiego = [\n",
    "    ['Diego', 'Ana La loca', 'Gloria', 'Alby', 'Pablo'], # -> k = 0 \n",
    "    ['Matilde', 'D. Alexander', 'Maria Gabriela', 'Gloria', 'Fernando']] # -> k = 1  "
   ]
  },
  {
   "cell_type": "markdown",
   "id": "b7502719-fbd1-4bec-b5fa-7599306381c1",
   "metadata": {},
   "source": [
    "Lista, puede tener , cadenas, numeros. binarios, etc.  También puede tener objetos dentro.."
   ]
  },
  {
   "cell_type": "code",
   "execution_count": 76,
   "id": "e41ff168-06ff-439b-9153-116d1a150ca4",
   "metadata": {},
   "outputs": [
    {
     "data": {
      "text/plain": [
       "[['x nodo 1 para k= 0 ', 'x nodo 2 para k= 0', 'x nodo 2 para k= 0'],\n",
       " ['x nodo 1 para k= 1 ', 'x nodo 2 para k= 1', 'x nodo 2 para k= 1']]"
      ]
     },
     "execution_count": 76,
     "metadata": {},
     "output_type": "execute_result"
    }
   ],
   "source": [
    "x_ejemplo"
   ]
  },
  {
   "cell_type": "code",
   "execution_count": 74,
   "id": "b780fea6-4670-4cfd-b132-96e4fd93f2cb",
   "metadata": {},
   "outputs": [
    {
     "data": {
      "text/plain": [
       "[['Diego', 'Ana La loca', 'Gloria', 'Alby', 'Pablo'],\n",
       " ['Matilde', 'D. Alexander', 'Maria Gabriela', 'Gloria', 'Fernando'],\n",
       " ['Diego', 'el chavo', 'Pablo']]"
      ]
     },
     "execution_count": 74,
     "metadata": {},
     "output_type": "execute_result"
    }
   ],
   "source": [
    "lista_familiasdiego"
   ]
  },
  {
   "cell_type": "code",
   "execution_count": 69,
   "id": "6e6d170c-af50-4c05-b296-ba915c8f6c9f",
   "metadata": {},
   "outputs": [
    {
     "data": {
      "text/plain": [
       "'Ana La loca'"
      ]
     },
     "execution_count": 69,
     "metadata": {},
     "output_type": "execute_result"
    }
   ],
   "source": [
    "lista_1 = ['Diego', 'Ana La loca', 'Gloria', 'Alby', 'Pablo']\n",
    "lista_1[1]"
   ]
  },
  {
   "cell_type": "code",
   "execution_count": null,
   "id": "5cfd8ff2-f432-4e9f-aa38-eddbfa5a2e49",
   "metadata": {},
   "outputs": [],
   "source": []
  }
 ],
 "metadata": {
  "kernelspec": {
   "display_name": "Python 3 (ipykernel)",
   "language": "python",
   "name": "python3"
  },
  "language_info": {
   "codemirror_mode": {
    "name": "ipython",
    "version": 3
   },
   "file_extension": ".py",
   "mimetype": "text/x-python",
   "name": "python",
   "nbconvert_exporter": "python",
   "pygments_lexer": "ipython3",
   "version": "3.9.18"
  }
 },
 "nbformat": 4,
 "nbformat_minor": 5
}
